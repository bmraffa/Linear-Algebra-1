{
  "nbformat": 4,
  "nbformat_minor": 0,
  "metadata": {
    "colab": {
      "name": "Copy of Assignment2.ipynb",
      "provenance": [],
      "collapsed_sections": [],
      "include_colab_link": true
    },
    "kernelspec": {
      "name": "python3",
      "display_name": "Python 3"
    },
    "language_info": {
      "name": "python"
    }
  },
  "cells": [
    {
      "cell_type": "markdown",
      "metadata": {
        "id": "view-in-github",
        "colab_type": "text"
      },
      "source": [
        "<a href=\"https://colab.research.google.com/github/bmraffa/Linear-Algebra-1/blob/main/Assignment2.2.ipynb\" target=\"_parent\"><img src=\"https://colab.research.google.com/assets/colab-badge.svg\" alt=\"Open In Colab\"/></a>"
      ]
    },
    {
      "cell_type": "code",
      "metadata": {
        "id": "H83pNZvQ2Q7o"
      },
      "source": [
        ""
      ],
      "execution_count": null,
      "outputs": []
    },
    {
      "cell_type": "markdown",
      "metadata": {
        "id": "Jub90uIN1m1U"
      },
      "source": [
        "# Welcome to Phyton Fundamentals\n",
        "In This Module, We are going to establish our skills in Python Programming. In thus notebook, We are going to cover:\n",
        "\n",
        "\n",
        "\n",
        "*   Variables and Data Types\n",
        "*  Operations\n",
        "*   Input and Output Operations\n",
        "*   Logic Control\n",
        "*   Iterables\n",
        "*   Functions\n",
        "\n",
        "\n",
        "\n",
        "\n",
        "\n"
      ]
    },
    {
      "cell_type": "markdown",
      "metadata": {
        "id": "LqNL4TRN2yEM"
      },
      "source": [
        "#Variables and Data Types"
      ]
    },
    {
      "cell_type": "code",
      "metadata": {
        "id": "R-dOf8y3QhCz",
        "colab": {
          "base_uri": "https://localhost:8080/"
        },
        "outputId": "37b73044-2c4b-40ba-89cf-d979687abe47"
      },
      "source": [
        "Website=\"facebook.com\"\n",
        "print(Website)\n",
        "\n",
        "# Assigning new value to Website\n",
        "Website=\"microsoft.com\"\n",
        "print(Website)"
      ],
      "execution_count": null,
      "outputs": [
        {
          "output_type": "stream",
          "name": "stdout",
          "text": [
            "facebook.com\n",
            "microsoft.com\n"
          ]
        }
      ]
    },
    {
      "cell_type": "code",
      "metadata": {
        "id": "EZjl_y0zRzDh",
        "colab": {
          "base_uri": "https://localhost:8080/"
        },
        "outputId": "59ad7801-f4b7-4951-9d85-13ee24c672d2"
      },
      "source": [
        "a = 0b1010 #Binary Literals\n",
        "b = 100 #Decimal Literal \n",
        "c = 0o310 #Octal Literal\n",
        "d = 0x12c #Hexadecimal Literal\n",
        "\n",
        "#Float Literal\n",
        "float_1 = 10.5 \n",
        "float_2 = 1.5e2\n",
        "\n",
        "#Complex Literal \n",
        "x = 3.14j\n",
        "\n",
        "print(a, b, c, d)\n",
        "print(float_1, float_2)\n",
        "print(x, x.imag, x.real)"
      ],
      "execution_count": null,
      "outputs": [
        {
          "output_type": "stream",
          "name": "stdout",
          "text": [
            "10 100 200 300\n",
            "10.5 150.0\n",
            "3.14j 3.14 0.0\n"
          ]
        }
      ]
    },
    {
      "cell_type": "markdown",
      "metadata": {
        "id": "CBNM3_mK4pDz"
      },
      "source": [
        "##Operations"
      ]
    },
    {
      "cell_type": "markdown",
      "metadata": {
        "id": "Ffhogawe41yx"
      },
      "source": [
        "###Arithmetic "
      ]
    },
    {
      "cell_type": "code",
      "metadata": {
        "id": "lcs00QK9G3zL"
      },
      "source": [
        "u,v,w,x,y,x=5,10,15,20,25,30\n"
      ],
      "execution_count": 9,
      "outputs": []
    },
    {
      "cell_type": "code",
      "metadata": {
        "colab": {
          "base_uri": "https://localhost:8080/"
        },
        "id": "JpheClE3HGVC",
        "outputId": "0e3bf8b4-f12e-44b0-f95a-070d57111fdf"
      },
      "source": [
        "### Addition\n",
        "print('u+w=',u+w)"
      ],
      "execution_count": 10,
      "outputs": [
        {
          "output_type": "stream",
          "name": "stdout",
          "text": [
            "u+w= 20\n"
          ]
        }
      ]
    },
    {
      "cell_type": "code",
      "metadata": {
        "colab": {
          "base_uri": "https://localhost:8080/"
        },
        "id": "Y5zt_eLpHYyS",
        "outputId": "ae2a5940-d0c9-45fa-9c2d-0573a24ff971"
      },
      "source": [
        "### Subtraction\n",
        "print('v-x=',v-x)"
      ],
      "execution_count": 11,
      "outputs": [
        {
          "output_type": "stream",
          "name": "stdout",
          "text": [
            "v-x= -20\n"
          ]
        }
      ]
    },
    {
      "cell_type": "code",
      "metadata": {
        "colab": {
          "base_uri": "https://localhost:8080/"
        },
        "id": "ZRx5Yl-_HpRW",
        "outputId": "0a052303-4c03-464d-e14f-0a238b7337cb"
      },
      "source": [
        "### Multiplication\n",
        "print('u*y=',u*y)"
      ],
      "execution_count": 13,
      "outputs": [
        {
          "output_type": "stream",
          "name": "stdout",
          "text": [
            "u*y= 125\n"
          ]
        }
      ]
    },
    {
      "cell_type": "code",
      "metadata": {
        "colab": {
          "base_uri": "https://localhost:8080/"
        },
        "id": "_jPnh8YQH_Gb",
        "outputId": "7eb269cc-2e5f-4612-be9a-4f9371049899"
      },
      "source": [
        "### Division\n",
        "print('y/u=',y/u)"
      ],
      "execution_count": 14,
      "outputs": [
        {
          "output_type": "stream",
          "name": "stdout",
          "text": [
            "y/u= 5.0\n"
          ]
        }
      ]
    },
    {
      "cell_type": "code",
      "metadata": {
        "colab": {
          "base_uri": "https://localhost:8080/"
        },
        "id": "rUzNnNwW6nOO",
        "outputId": "7e3f70b1-e868-4289-aa93-bbf19ed069c7"
      },
      "source": [
        "### Floor Division\n",
        "print('w//v=',w//v)"
      ],
      "execution_count": 19,
      "outputs": [
        {
          "output_type": "stream",
          "name": "stdout",
          "text": [
            "w//v= 1\n"
          ]
        }
      ]
    },
    {
      "cell_type": "code",
      "metadata": {
        "colab": {
          "base_uri": "https://localhost:8080/"
        },
        "id": "oygqX_Sx7HNu",
        "outputId": "cc7b0f00-dd3e-4533-90aa-a95a106d9385"
      },
      "source": [
        "### Exponentiation\n",
        "print('x**y=',x**y)"
      ],
      "execution_count": 20,
      "outputs": [
        {
          "output_type": "stream",
          "name": "stdout",
          "text": [
            "x**y= 8472886094430000000000000000000000000\n"
          ]
        }
      ]
    },
    {
      "cell_type": "code",
      "metadata": {
        "colab": {
          "base_uri": "https://localhost:8080/"
        },
        "id": "XPn0St8L7Ygp",
        "outputId": "2c6b7ee2-e953-4cb6-e333-e3f86bf67d8a"
      },
      "source": [
        "### Modulo\n",
        "print('w%y=',w%y)"
      ],
      "execution_count": 21,
      "outputs": [
        {
          "output_type": "stream",
          "name": "stdout",
          "text": [
            "w%y= 15\n"
          ]
        }
      ]
    },
    {
      "cell_type": "markdown",
      "metadata": {
        "id": "VYqI7p50lpdL"
      },
      "source": [
        "#Assignment\n"
      ]
    },
    {
      "cell_type": "code",
      "metadata": {
        "colab": {
          "base_uri": "https://localhost:8080/"
        },
        "id": "I5FERv7Llt6A",
        "outputId": "c8215834-b9bb-4a2e-d9f4-e9dd682981cd"
      },
      "source": [
        "u,v,w,x,y,x=5,10,15,20,25,30\n",
        "#Assign\n",
        "c=v+w\n",
        "c"
      ],
      "execution_count": 24,
      "outputs": [
        {
          "output_type": "execute_result",
          "data": {
            "text/plain": [
              "25"
            ]
          },
          "metadata": {},
          "execution_count": 24
        }
      ]
    },
    {
      "cell_type": "code",
      "metadata": {
        "colab": {
          "base_uri": "https://localhost:8080/"
        },
        "id": "ndDY6D6SmFnL",
        "outputId": "08850f40-95d9-4ddf-d566-ee487c82b948"
      },
      "source": [
        "#Add and Assign\n",
        "u+=x\n",
        "u"
      ],
      "execution_count": 25,
      "outputs": [
        {
          "output_type": "execute_result",
          "data": {
            "text/plain": [
              "35"
            ]
          },
          "metadata": {},
          "execution_count": 25
        }
      ]
    },
    {
      "cell_type": "code",
      "metadata": {
        "colab": {
          "base_uri": "https://localhost:8080/"
        },
        "id": "IcCBq1eMmTrx",
        "outputId": "fc950c38-b940-4344-fd0f-1af81eb96f94"
      },
      "source": [
        "#Subtract and Assign\n",
        "y-=u\n",
        "y"
      ],
      "execution_count": 26,
      "outputs": [
        {
          "output_type": "execute_result",
          "data": {
            "text/plain": [
              "-10"
            ]
          },
          "metadata": {},
          "execution_count": 26
        }
      ]
    },
    {
      "cell_type": "code",
      "metadata": {
        "colab": {
          "base_uri": "https://localhost:8080/"
        },
        "id": "PdJHJGh5mhgL",
        "outputId": "175bab46-9145-49fa-ee94-62b3301b72be"
      },
      "source": [
        "#Multiply and Assign\n",
        "x*=y\n",
        "x"
      ],
      "execution_count": 27,
      "outputs": [
        {
          "output_type": "execute_result",
          "data": {
            "text/plain": [
              "-300"
            ]
          },
          "metadata": {},
          "execution_count": 27
        }
      ]
    },
    {
      "cell_type": "code",
      "metadata": {
        "colab": {
          "base_uri": "https://localhost:8080/"
        },
        "id": "ldDrwovOmptx",
        "outputId": "650c9b9a-1b2d-481a-cb83-97176a5ede47"
      },
      "source": [
        "#Divide and Assign\n",
        "y/=v\n",
        "y"
      ],
      "execution_count": 28,
      "outputs": [
        {
          "output_type": "execute_result",
          "data": {
            "text/plain": [
              "-1.0"
            ]
          },
          "metadata": {},
          "execution_count": 28
        }
      ]
    },
    {
      "cell_type": "code",
      "metadata": {
        "colab": {
          "base_uri": "https://localhost:8080/"
        },
        "id": "OUk6fssRmxHc",
        "outputId": "6da8394e-f806-46ac-be8b-01f70f224c8c"
      },
      "source": [
        "#Modulos and Assign\n",
        "w%=v\n",
        "w"
      ],
      "execution_count": 29,
      "outputs": [
        {
          "output_type": "execute_result",
          "data": {
            "text/plain": [
              "5"
            ]
          },
          "metadata": {},
          "execution_count": 29
        }
      ]
    },
    {
      "cell_type": "code",
      "metadata": {
        "colab": {
          "base_uri": "https://localhost:8080/"
        },
        "id": "pRXD4Es7m6C7",
        "outputId": "bbcd494a-0a6b-4b2d-fed9-b6c0df90347b"
      },
      "source": [
        "#Floor Division and Assign\n",
        "u//=y\n",
        "u"
      ],
      "execution_count": 30,
      "outputs": [
        {
          "output_type": "execute_result",
          "data": {
            "text/plain": [
              "-35.0"
            ]
          },
          "metadata": {},
          "execution_count": 30
        }
      ]
    },
    {
      "cell_type": "markdown",
      "metadata": {
        "id": "GRcA55rh-Sxz"
      },
      "source": [
        "### Comparators"
      ]
    },
    {
      "cell_type": "code",
      "metadata": {
        "colab": {
          "base_uri": "https://localhost:8080/"
        },
        "id": "pVBABIqGJYAq",
        "outputId": "8ba571aa-ca69-44bc-a129-312d7ea593c6"
      },
      "source": [
        "A = 10\n",
        "B = 12\n",
        "\n",
        "print('A > B is',A>B)\n",
        "print('A < B is',A<B)\n",
        "print('A == B is',A==B)\n",
        "print('A != B is',A!=B)\n",
        "print('A >= B is',A>=B)\n",
        "print('A <= B is',A<=B)"
      ],
      "execution_count": 22,
      "outputs": [
        {
          "output_type": "stream",
          "name": "stdout",
          "text": [
            "A > B is False\n",
            "A < B is True\n",
            "A == B is False\n",
            "A != B is True\n",
            "A >= B is False\n",
            "A <= B is True\n"
          ]
        }
      ]
    },
    {
      "cell_type": "markdown",
      "metadata": {
        "id": "-hk1ZjFj_77x"
      },
      "source": [
        "### Logical"
      ]
    },
    {
      "cell_type": "code",
      "metadata": {
        "colab": {
          "base_uri": "https://localhost:8080/"
        },
        "id": "vny4p2-gAAKS",
        "outputId": "34a2eee7-3071-43ba-fdf5-1075a1828c8b"
      },
      "source": [
        "p=5\n",
        "#Conjunction\n",
        "print(p > 3 and x < 10)\n"
      ],
      "execution_count": 31,
      "outputs": [
        {
          "output_type": "stream",
          "name": "stdout",
          "text": [
            "True\n"
          ]
        }
      ]
    },
    {
      "cell_type": "code",
      "metadata": {
        "colab": {
          "base_uri": "https://localhost:8080/"
        },
        "id": "UeKDyzdBrqWh",
        "outputId": "653865bf-71a7-4426-fa64-224bc32b7b57"
      },
      "source": [
        "#Disjunction\n",
        "print(p > 3 or p < 4)\n"
      ],
      "execution_count": 32,
      "outputs": [
        {
          "output_type": "stream",
          "name": "stdout",
          "text": [
            "True\n"
          ]
        }
      ]
    },
    {
      "cell_type": "code",
      "metadata": {
        "colab": {
          "base_uri": "https://localhost:8080/"
        },
        "id": "qGFGSiZztD8t",
        "outputId": "6b551b50-acdb-40bf-d6d1-62136970184f"
      },
      "source": [
        "#Negation\n",
        "print(not(p > 3 and p < 10))"
      ],
      "execution_count": 34,
      "outputs": [
        {
          "output_type": "stream",
          "name": "stdout",
          "text": [
            "False\n"
          ]
        }
      ]
    },
    {
      "cell_type": "markdown",
      "metadata": {
        "id": "RwJgeygEB0z6"
      },
      "source": [
        "## Input and Output"
      ]
    },
    {
      "cell_type": "code",
      "metadata": {
        "colab": {
          "base_uri": "https://localhost:8080/"
        },
        "id": "frZXWRjttMMz",
        "outputId": "8ad94d67-d27f-43b5-c5dc-8217efb8ef32"
      },
      "source": [
        ">>> fname = input(\"Enter Your First Name: \")\n",
        ">>> mname = input(\"Enter Your Middle Name: \")\n",
        ">>> lname = input(\"Enter Your Last Name: \")\n",
        "\n",
        ">>> print('Name:', fname, mname, lname)"
      ],
      "execution_count": 38,
      "outputs": [
        {
          "output_type": "stream",
          "name": "stdout",
          "text": [
            "Enter Your First Name: Rafaella Mae\n",
            "Enter Your Middle Name: Casalmer\n",
            "Enter Your Last Name: Besanes\n",
            "Name: Rafaella Mae Casalmer Besanes\n"
          ]
        }
      ]
    },
    {
      "cell_type": "code",
      "metadata": {
        "colab": {
          "base_uri": "https://localhost:8080/"
        },
        "id": "pnOdXtyBugNq",
        "outputId": "50df6b54-9683-44e6-9516-de8d570a7e0e"
      },
      "source": [
        "my_string = 'Hello'\n",
        "print(my_string)\n",
        "\n",
        "my_string = 'Hello, welcome to my Assignment 2 Mr./Ms.:',input('Please Enter Your Name:')\n",
        "\n",
        "print(my_string)"
      ],
      "execution_count": 58,
      "outputs": [
        {
          "output_type": "stream",
          "name": "stdout",
          "text": [
            "Hello\n",
            "Please Enter Your Name:raffa\n",
            "('Hello, welcome to my Assignment 2 Mr./Ms.:', 'raffa')\n"
          ]
        }
      ]
    },
    {
      "cell_type": "code",
      "metadata": {
        "colab": {
          "base_uri": "https://localhost:8080/"
        },
        "id": "h6f48lgoDOTy",
        "outputId": "8e09f2de-57cb-4e40-b075-36f29e364aaf"
      },
      "source": [
        "pg, mg, fg = 0.3, 0.3, 0.4\n",
        "print(\"The weights of your Semestral grades are:\\\n",
        "\\n\\t {:.2%} for Prelims\\\n",
        "\\n\\t {:.2%} for Midterms, and\\\n",
        "\\n\\t {:.2%} for finals.\".format(pg, mg, fg))\n"
      ],
      "execution_count": null,
      "outputs": [
        {
          "output_type": "stream",
          "name": "stdout",
          "text": [
            "The weights of your Semestral grades are:\n",
            "\t 30.00% for Prelims\n",
            "\t 30.00% for Midterms, and\n",
            "\t 40.00% for finals.\n"
          ]
        }
      ]
    },
    {
      "cell_type": "code",
      "metadata": {
        "id": "GfyYujBeFhiD"
      },
      "source": [
        "e =input(\"Enter a number: \")\n",
        "e"
      ],
      "execution_count": null,
      "outputs": []
    },
    {
      "cell_type": "code",
      "metadata": {
        "colab": {
          "base_uri": "https://localhost:8080/"
        },
        "id": "yFnmf8UhF5NV",
        "outputId": "d85cfe8b-303b-49d3-8670-55054db8d37d"
      },
      "source": [
        "name = input(\"Enter your name: \")\n",
        "pg = input(\"Enter Prelim Grade: \")\n",
        "mg = input(\"Enter Midterm Grade: \")\n",
        "fg = input(\"Enter Final Grade: \")\n",
        "sem_grade = None\n",
        "print(\"Hello {}, your semestral grade is: {}\".format(name,sem_grade))"
      ],
      "execution_count": null,
      "outputs": [
        {
          "output_type": "stream",
          "name": "stdout",
          "text": [
            "Enter your name: raffa\n",
            "Enter Prelim Grade: 90\n",
            "Enter Midterm Grade: 89\n",
            "Enter Final Grade: 88\n",
            "Hello raffa, your semestral grade is: None\n"
          ]
        }
      ]
    },
    {
      "cell_type": "markdown",
      "metadata": {
        "id": "B9EoZg4lLMbk"
      },
      "source": [
        "## Looping Statements"
      ]
    },
    {
      "cell_type": "markdown",
      "metadata": {
        "id": "wAx2u-RzLYWM"
      },
      "source": [
        "## While "
      ]
    },
    {
      "cell_type": "code",
      "metadata": {
        "colab": {
          "base_uri": "https://localhost:8080/"
        },
        "id": "Wl-XkSV_Lerz",
        "outputId": "4996e9ef-17d6-4534-e8fd-4c3185ffa4c4"
      },
      "source": [
        "## While Loops\n",
        "n = 50\n",
        "sum = 0\n",
        "i = 1\n",
        "\n",
        "while i <= n:\n",
        "    sum = sum + i\n",
        "    i = i+1    \n",
        "\n",
        "print(\"The sum is\", sum)"
      ],
      "execution_count": 86,
      "outputs": [
        {
          "output_type": "stream",
          "name": "stdout",
          "text": [
            "The sum is 1275\n"
          ]
        }
      ]
    },
    {
      "cell_type": "markdown",
      "metadata": {
        "id": "fT9KiF3wL92T"
      },
      "source": [
        "## For"
      ]
    },
    {
      "cell_type": "code",
      "metadata": {
        "colab": {
          "base_uri": "https://localhost:8080/"
        },
        "id": "MJVH_RaE0iXR",
        "outputId": "a6df1372-5dde-4bfd-99a1-2c4a92909347"
      },
      "source": [
        "## For Loop\n",
        "Attendance = [\"Raffa\", \"John\", \"Andrea\", \"Jomari\", \"Angelica\",\"Jennie\"]\n",
        "for name in Attendance:\n",
        "    print(name)"
      ],
      "execution_count": 71,
      "outputs": [
        {
          "output_type": "stream",
          "name": "stdout",
          "text": [
            "Raffa\n",
            "John\n",
            "Andrea\n",
            "Jomari\n",
            "Angelica\n",
            "Jennie\n"
          ]
        }
      ]
    },
    {
      "cell_type": "markdown",
      "metadata": {
        "id": "RCPXx_RmNOae"
      },
      "source": [
        "## Flow Control"
      ]
    },
    {
      "cell_type": "markdown",
      "metadata": {
        "id": "9Ox8Q0PgNVp7"
      },
      "source": [
        "### Condition Statements"
      ]
    },
    {
      "cell_type": "code",
      "metadata": {
        "colab": {
          "base_uri": "https://localhost:8080/"
        },
        "id": "4L2ixdKqNYuj",
        "outputId": "8cd2d269-5a9b-4552-d563-63068d191f40"
      },
      "source": [
        "num_1, num_2 = 12, 12\n",
        "if(num_1 == num_2):\n",
        "    print(\"HAHA\")\n",
        "elif(num_1>num_2):\n",
        "    print(\"HOHO\")\n",
        "else:\n",
        "    print(\"HUHU\")"
      ],
      "execution_count": null,
      "outputs": [
        {
          "output_type": "stream",
          "name": "stdout",
          "text": [
            "HAHA\n"
          ]
        }
      ]
    },
    {
      "cell_type": "markdown",
      "metadata": {
        "id": "Vc8EeN8nN8sv"
      },
      "source": [
        "## Functions"
      ]
    },
    {
      "cell_type": "code",
      "metadata": {
        "id": "aN83EAqWOARE"
      },
      "source": [
        "# void DeleteUser (int userid){\n",
        "# delete(userid);\n",
        "#}\n",
        "\n",
        "def delete_user (userid):\n",
        "    print(\"Successfully deleted user: {}\".format(userid))"
      ],
      "execution_count": null,
      "outputs": []
    },
    {
      "cell_type": "code",
      "metadata": {
        "colab": {
          "base_uri": "https://localhost:8080/"
        },
        "id": "LGW--mO5OeHM",
        "outputId": "926489b3-8367-4365-9037-4c53f03f196c"
      },
      "source": [
        "userid = 2020_10101010\n",
        "delete_user(2020_10101010)"
      ],
      "execution_count": null,
      "outputs": [
        {
          "output_type": "stream",
          "name": "stdout",
          "text": [
            "Successfully deleted user: 202010101010\n"
          ]
        }
      ]
    },
    {
      "cell_type": "code",
      "metadata": {
        "id": "WGiJvndAO1oy"
      },
      "source": [
        "def add(addend1, addend2):\n",
        "   sum = addend1 + addend2\n",
        "   return sum"
      ],
      "execution_count": null,
      "outputs": []
    },
    {
      "cell_type": "code",
      "metadata": {
        "colab": {
          "base_uri": "https://localhost:8080/"
        },
        "id": "BRI71nezPv2r",
        "outputId": "6b16eaed-7472-4a20-a812-70e13824a037"
      },
      "source": [
        "add(3,4)"
      ],
      "execution_count": null,
      "outputs": [
        {
          "output_type": "execute_result",
          "data": {
            "text/plain": [
              "7"
            ]
          },
          "metadata": {},
          "execution_count": 119
        }
      ]
    }
  ]
}