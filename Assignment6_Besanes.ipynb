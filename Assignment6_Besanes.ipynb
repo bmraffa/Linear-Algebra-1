{
  "nbformat": 4,
  "nbformat_minor": 0,
  "metadata": {
    "colab": {
      "name": "Assignment6-Besanes.ipynb",
      "provenance": [],
      "authorship_tag": "ABX9TyNnAojBhRNnrRdzNiG46mhc",
      "include_colab_link": true
    },
    "kernelspec": {
      "name": "python3",
      "display_name": "Python 3"
    },
    "language_info": {
      "name": "python"
    }
  },
  "cells": [
    {
      "cell_type": "markdown",
      "metadata": {
        "id": "view-in-github",
        "colab_type": "text"
      },
      "source": [
        "<a href=\"https://colab.research.google.com/github/bmraffa/Linear-Algebra-1/blob/main/Assignment6_Besanes.ipynb\" target=\"_parent\"><img src=\"https://colab.research.google.com/assets/colab-badge.svg\" alt=\"Open In Colab\"/></a>"
      ]
    },
    {
      "cell_type": "markdown",
      "metadata": {
        "id": "DxmTrFeCExWq"
      },
      "source": [
        "##Activity 1\n",
        "Prove and implement the remaining 6 matrix multiplication properties. You may create your own matrices in which their shapes should not be lower than  (3,3) . In your methodology, create individual flowcharts for each property and discuss the property you would then present your proofs or validity of your implementation in the results section by comparing your result to present functions from NumPy."
      ]
    },
    {
      "cell_type": "code",
      "metadata": {
        "id": "I-2koiSaEpCo"
      },
      "source": [
        "import numpy as np\n",
        "import matplotlib.pyplot as plt\n",
        "%matplotlib inline\n"
      ],
      "execution_count": 1,
      "outputs": []
    },
    {
      "cell_type": "code",
      "metadata": {
        "id": "GDKrEUbjE-Qg"
      },
      "source": [
        "A = np.array([\n",
        "    [-1,3,0,13],\n",
        "    [2,4,-5,7],\n",
        "    [5,3,10,1],\n",
        "    [1,5,0,9]\n",
        "])\n",
        "B = np.array([\n",
        "    [-9,11,21,2],\n",
        "    [1,6,-2,8],\n",
        "    [9,18,-9,0],\n",
        "    [2,6,1,0]\n",
        "])\n",
        "C = np.array([\n",
        "    [1,0,0,2],\n",
        "    [4,1,9,8],\n",
        "    [17,3,1,-4],\n",
        "    [3,7,2,1]\n",
        "])"
      ],
      "execution_count": 17,
      "outputs": []
    },
    {
      "cell_type": "code",
      "metadata": {
        "colab": {
          "base_uri": "https://localhost:8080/"
        },
        "id": "XQIBvTXnGjqv",
        "outputId": "f044dde4-ff86-4775-bbb8-b11e21e653ef"
      },
      "source": [
        "print( A.shape)\n",
        "print( B.shape)\n",
        "print( C.shape)\n"
      ],
      "execution_count": 18,
      "outputs": [
        {
          "output_type": "stream",
          "name": "stdout",
          "text": [
            "(4, 4)\n",
            "(4, 4)\n",
            "(4, 4)\n"
          ]
        }
      ]
    },
    {
      "cell_type": "markdown",
      "metadata": {
        "id": "ABM38KW6FHuw"
      },
      "source": [
        "#####First Property: $A \\cdot B \\neq B \\cdot A$"
      ]
    },
    {
      "cell_type": "code",
      "metadata": {
        "colab": {
          "base_uri": "https://localhost:8080/"
        },
        "id": "W8lo7g7tJawv",
        "outputId": "5bc664ee-894f-4183-e060-65cbeef1d8ba"
      },
      "source": [
        "np.dot(A,B)"
      ],
      "execution_count": 21,
      "outputs": [
        {
          "output_type": "execute_result",
          "data": {
            "text/plain": [
              "array([[ 38,  85, -14,  22],\n",
              "       [-45,  -2,  86,  36],\n",
              "       [ 50, 259,  10,  34],\n",
              "       [ 14,  95,  20,  42]])"
            ]
          },
          "metadata": {},
          "execution_count": 21
        }
      ]
    },
    {
      "cell_type": "code",
      "metadata": {
        "colab": {
          "base_uri": "https://localhost:8080/"
        },
        "id": "qTOTSrPKJyyS",
        "outputId": "a01a8f1f-4b63-4f26-c12d-5eb9628fb757"
      },
      "source": [
        "np.dot(B,A)"
      ],
      "execution_count": 22,
      "outputs": [
        {
          "output_type": "execute_result",
          "data": {
            "text/plain": [
              "array([[ 138,   90,  155,   -1],\n",
              "       [   9,   61,  -50,  125],\n",
              "       [ -18,   72, -180,  234],\n",
              "       [  15,   33,  -20,   69]])"
            ]
          },
          "metadata": {},
          "execution_count": 22
        }
      ]
    },
    {
      "cell_type": "code",
      "metadata": {
        "colab": {
          "base_uri": "https://localhost:8080/"
        },
        "id": "Ckj8XZ4tJ5SF",
        "outputId": "b009eb68-3153-4fde-d23e-2750e07b5739"
      },
      "source": [
        "np.array_equal(A,B)"
      ],
      "execution_count": 23,
      "outputs": [
        {
          "output_type": "execute_result",
          "data": {
            "text/plain": [
              "False"
            ]
          },
          "metadata": {},
          "execution_count": 23
        }
      ]
    },
    {
      "cell_type": "code",
      "metadata": {
        "colab": {
          "base_uri": "https://localhost:8080/"
        },
        "id": "wooDsGw_KQb8",
        "outputId": "0e674995-5980-45f6-b27d-34d37819527e"
      },
      "source": [
        "np.array_equiv(A,B)"
      ],
      "execution_count": 24,
      "outputs": [
        {
          "output_type": "execute_result",
          "data": {
            "text/plain": [
              "False"
            ]
          },
          "metadata": {},
          "execution_count": 24
        }
      ]
    },
    {
      "cell_type": "markdown",
      "metadata": {
        "id": "l1jaYLbLKajB"
      },
      "source": [
        "#####Second Property: $A \\cdot (B \\cdot C) = (A \\cdot B) \\cdot C$"
      ]
    },
    {
      "cell_type": "code",
      "metadata": {
        "colab": {
          "base_uri": "https://localhost:8080/"
        },
        "id": "A78kOAs7KsMA",
        "outputId": "421d153a-2046-4ef9-dc60-fff7005d037d"
      },
      "source": [
        "D = A @ (B @ C)\n",
        "D"
      ],
      "execution_count": 27,
      "outputs": [
        {
          "output_type": "execute_result",
          "data": {
            "text/plain": [
              "array([[ 206,  197,  795,  834],\n",
              "       [1517,  508,  140, -414],\n",
              "       [1358,  527, 2409, 2166],\n",
              "       [ 860,  449,  959,  750]])"
            ]
          },
          "metadata": {},
          "execution_count": 27
        }
      ]
    },
    {
      "cell_type": "code",
      "metadata": {
        "colab": {
          "base_uri": "https://localhost:8080/"
        },
        "id": "dOFr9aI_K8SM",
        "outputId": "9c3eae80-f1c4-4b8a-9700-31cea5008504"
      },
      "source": [
        "E = (A @ B) @ C\n",
        "E"
      ],
      "execution_count": 29,
      "outputs": [
        {
          "output_type": "execute_result",
          "data": {
            "text/plain": [
              "array([[ 206,  197,  795,  834],\n",
              "       [1517,  508,  140, -414],\n",
              "       [1358,  527, 2409, 2166],\n",
              "       [ 860,  449,  959,  750]])"
            ]
          },
          "metadata": {},
          "execution_count": 29
        }
      ]
    },
    {
      "cell_type": "code",
      "metadata": {
        "colab": {
          "base_uri": "https://localhost:8080/"
        },
        "id": "vytvFYLJLN43",
        "outputId": "280be14f-657d-4882-d9c8-e5cc0953ddea"
      },
      "source": [
        "np.array_equal(D,E)"
      ],
      "execution_count": 31,
      "outputs": [
        {
          "output_type": "execute_result",
          "data": {
            "text/plain": [
              "True"
            ]
          },
          "metadata": {},
          "execution_count": 31
        }
      ]
    },
    {
      "cell_type": "code",
      "metadata": {
        "colab": {
          "base_uri": "https://localhost:8080/"
        },
        "id": "b-RCHG4SLXzr",
        "outputId": "b44a0ba2-08b6-4f32-e52d-914ca759ff1d"
      },
      "source": [
        "np.array_equiv(D,E)"
      ],
      "execution_count": 32,
      "outputs": [
        {
          "output_type": "execute_result",
          "data": {
            "text/plain": [
              "True"
            ]
          },
          "metadata": {},
          "execution_count": 32
        }
      ]
    },
    {
      "cell_type": "markdown",
      "metadata": {
        "id": "v4HadIILLiIH"
      },
      "source": [
        "#####Third Property: $A\\cdot(B+C) = A\\cdot B + A\\cdot C$"
      ]
    },
    {
      "cell_type": "code",
      "metadata": {
        "colab": {
          "base_uri": "https://localhost:8080/"
        },
        "id": "DR58J1ydLddo",
        "outputId": "cd543435-ef03-4780-a773-ecbded866539"
      },
      "source": [
        "F = A @ (B+C)\n",
        "F"
      ],
      "execution_count": 33,
      "outputs": [
        {
          "output_type": "execute_result",
          "data": {
            "text/plain": [
              "array([[ 88, 179,  39,  57],\n",
              "       [-91,  36, 131,  99],\n",
              "       [240, 299,  49,  29],\n",
              "       [ 62, 163,  83,  93]])"
            ]
          },
          "metadata": {},
          "execution_count": 33
        }
      ]
    },
    {
      "cell_type": "code",
      "metadata": {
        "colab": {
          "base_uri": "https://localhost:8080/"
        },
        "id": "pFU_fYrGLxhP",
        "outputId": "f88b2e7c-a387-4b9c-fffd-48b9698c3b19"
      },
      "source": [
        "G = (A @ B) + (A @ C)\n",
        "G"
      ],
      "execution_count": 34,
      "outputs": [
        {
          "output_type": "execute_result",
          "data": {
            "text/plain": [
              "array([[ 88, 179,  39,  57],\n",
              "       [-91,  36, 131,  99],\n",
              "       [240, 299,  49,  29],\n",
              "       [ 62, 163,  83,  93]])"
            ]
          },
          "metadata": {},
          "execution_count": 34
        }
      ]
    },
    {
      "cell_type": "code",
      "metadata": {
        "colab": {
          "base_uri": "https://localhost:8080/"
        },
        "id": "5UUI3V8BMFmL",
        "outputId": "fc239050-e865-4536-bb46-76ddace1e279"
      },
      "source": [
        "np.array_equal(F,G)"
      ],
      "execution_count": 35,
      "outputs": [
        {
          "output_type": "execute_result",
          "data": {
            "text/plain": [
              "True"
            ]
          },
          "metadata": {},
          "execution_count": 35
        }
      ]
    },
    {
      "cell_type": "code",
      "metadata": {
        "colab": {
          "base_uri": "https://localhost:8080/"
        },
        "id": "XUehR7XxMJTE",
        "outputId": "7e94a91d-ba1e-4aca-a539-27c036db0593"
      },
      "source": [
        "np.array_equiv(F,G)"
      ],
      "execution_count": 36,
      "outputs": [
        {
          "output_type": "execute_result",
          "data": {
            "text/plain": [
              "True"
            ]
          },
          "metadata": {},
          "execution_count": 36
        }
      ]
    },
    {
      "cell_type": "markdown",
      "metadata": {
        "id": "ycPYLCntL8Ef"
      },
      "source": [
        "#####Fourth Property: $(B+C)\\cdot A = B\\cdot A + C\\cdot A$"
      ]
    },
    {
      "cell_type": "code",
      "metadata": {
        "colab": {
          "base_uri": "https://localhost:8080/"
        },
        "id": "AD283O4RMBt7",
        "outputId": "1a374f59-de26-459f-dfe2-eb3950981a4e"
      },
      "source": [
        "H = (B + C) @ A\n",
        "H"
      ],
      "execution_count": 37,
      "outputs": [
        {
          "output_type": "execute_result",
          "data": {
            "text/plain": [
              "array([[ 139,  103,  155,   30],\n",
              "       [  60,  144,   35,  265],\n",
              "       [ -28,  118, -185,  441],\n",
              "       [  37,   81,  -35,  168]])"
            ]
          },
          "metadata": {},
          "execution_count": 37
        }
      ]
    },
    {
      "cell_type": "code",
      "metadata": {
        "colab": {
          "base_uri": "https://localhost:8080/"
        },
        "id": "Xe9YX6RmMXw3",
        "outputId": "3b756dfa-43a2-4e06-b0a7-4dfcb43b31a3"
      },
      "source": [
        "J = (B @ A) + (C @ A)\n",
        "J"
      ],
      "execution_count": 43,
      "outputs": [
        {
          "output_type": "execute_result",
          "data": {
            "text/plain": [
              "array([[ 139,  103,  155,   30],\n",
              "       [  60,  144,   35,  265],\n",
              "       [ -28,  118, -185,  441],\n",
              "       [  37,   81,  -35,  168]])"
            ]
          },
          "metadata": {},
          "execution_count": 43
        }
      ]
    },
    {
      "cell_type": "code",
      "metadata": {
        "colab": {
          "base_uri": "https://localhost:8080/"
        },
        "id": "8Rn6m6kYMi9N",
        "outputId": "177b54a7-5e9c-43bc-dffa-abfaebba451c"
      },
      "source": [
        "np.array_equal(H,J)"
      ],
      "execution_count": 44,
      "outputs": [
        {
          "output_type": "execute_result",
          "data": {
            "text/plain": [
              "True"
            ]
          },
          "metadata": {},
          "execution_count": 44
        }
      ]
    },
    {
      "cell_type": "code",
      "metadata": {
        "colab": {
          "base_uri": "https://localhost:8080/"
        },
        "id": "wVWgm1-yMnb6",
        "outputId": "97713cb4-d08d-4068-e1c2-ea341e52011f"
      },
      "source": [
        "np.array_equiv(H,J)"
      ],
      "execution_count": 45,
      "outputs": [
        {
          "output_type": "execute_result",
          "data": {
            "text/plain": [
              "True"
            ]
          },
          "metadata": {},
          "execution_count": 45
        }
      ]
    },
    {
      "cell_type": "markdown",
      "metadata": {
        "id": "pX7vaFVIMstO"
      },
      "source": [
        "#####Fifth Property: $A\\cdot I = A$"
      ]
    },
    {
      "cell_type": "code",
      "metadata": {
        "id": "wfOBr3CERymI"
      },
      "source": [
        "I = np.array([\n",
        "    [1,0,0,0],\n",
        "    [0,1,0,0],\n",
        "    [0,0,1,0],\n",
        "    [0,0,0,1]\n",
        "])"
      ],
      "execution_count": 49,
      "outputs": []
    },
    {
      "cell_type": "code",
      "metadata": {
        "colab": {
          "base_uri": "https://localhost:8080/"
        },
        "id": "r-XLPZEiSLDW",
        "outputId": "d5c1d9a2-326d-49ca-848b-f70a12cff9e0"
      },
      "source": [
        "np.dot(A,I)"
      ],
      "execution_count": 50,
      "outputs": [
        {
          "output_type": "execute_result",
          "data": {
            "text/plain": [
              "array([[-1,  3,  0, 13],\n",
              "       [ 2,  4, -5,  7],\n",
              "       [ 5,  3, 10,  1],\n",
              "       [ 1,  5,  0,  9]])"
            ]
          },
          "metadata": {},
          "execution_count": 50
        }
      ]
    },
    {
      "cell_type": "code",
      "metadata": {
        "colab": {
          "base_uri": "https://localhost:8080/"
        },
        "id": "LldX3FUjUJgh",
        "outputId": "a5e94bd5-3441-4e5f-d4fa-5dd8749cca3e"
      },
      "source": [
        "np.dot(B,I)"
      ],
      "execution_count": 58,
      "outputs": [
        {
          "output_type": "execute_result",
          "data": {
            "text/plain": [
              "array([[-9, 11, 21,  2],\n",
              "       [ 1,  6, -2,  8],\n",
              "       [ 9, 18, -9,  0],\n",
              "       [ 2,  6,  1,  0]])"
            ]
          },
          "metadata": {},
          "execution_count": 58
        }
      ]
    },
    {
      "cell_type": "code",
      "metadata": {
        "colab": {
          "base_uri": "https://localhost:8080/"
        },
        "id": "xf48CsGrUMoN",
        "outputId": "8454793b-7e72-494b-990e-632e8ee1b5b3"
      },
      "source": [
        "np.dot(C,I)"
      ],
      "execution_count": 59,
      "outputs": [
        {
          "output_type": "execute_result",
          "data": {
            "text/plain": [
              "array([[ 1,  0,  0,  2],\n",
              "       [ 4,  1,  9,  8],\n",
              "       [17,  3,  1, -4],\n",
              "       [ 3,  7,  2,  1]])"
            ]
          },
          "metadata": {},
          "execution_count": 59
        }
      ]
    },
    {
      "cell_type": "code",
      "metadata": {
        "colab": {
          "base_uri": "https://localhost:8080/"
        },
        "id": "W9r1e0T7SofB",
        "outputId": "08dd652f-1f2b-4c0c-b1c1-fa0495398717"
      },
      "source": [
        "np.array_equal(A,I)"
      ],
      "execution_count": 51,
      "outputs": [
        {
          "output_type": "execute_result",
          "data": {
            "text/plain": [
              "False"
            ]
          },
          "metadata": {},
          "execution_count": 51
        }
      ]
    },
    {
      "cell_type": "code",
      "metadata": {
        "colab": {
          "base_uri": "https://localhost:8080/"
        },
        "id": "W9sbuh2JUQkA",
        "outputId": "5aba1edb-5f3b-4bc4-cb6b-c39c82582f3e"
      },
      "source": [
        "np.array_equal(B,I)"
      ],
      "execution_count": 60,
      "outputs": [
        {
          "output_type": "execute_result",
          "data": {
            "text/plain": [
              "False"
            ]
          },
          "metadata": {},
          "execution_count": 60
        }
      ]
    },
    {
      "cell_type": "code",
      "metadata": {
        "colab": {
          "base_uri": "https://localhost:8080/"
        },
        "id": "RfasepDQUT6T",
        "outputId": "01faae9d-56ef-451c-adcb-94a77c9845a7"
      },
      "source": [
        "np.array_equal(C,I)"
      ],
      "execution_count": 61,
      "outputs": [
        {
          "output_type": "execute_result",
          "data": {
            "text/plain": [
              "False"
            ]
          },
          "metadata": {},
          "execution_count": 61
        }
      ]
    },
    {
      "cell_type": "code",
      "metadata": {
        "colab": {
          "base_uri": "https://localhost:8080/"
        },
        "id": "9wUxHg2sSt78",
        "outputId": "c9a71d8d-a447-4932-dac3-605acfc4de93"
      },
      "source": [
        "np.array_equiv(A,I)"
      ],
      "execution_count": 52,
      "outputs": [
        {
          "output_type": "execute_result",
          "data": {
            "text/plain": [
              "False"
            ]
          },
          "metadata": {},
          "execution_count": 52
        }
      ]
    },
    {
      "cell_type": "code",
      "metadata": {
        "colab": {
          "base_uri": "https://localhost:8080/"
        },
        "id": "lhDg-_0WUZHf",
        "outputId": "e2513ade-9c51-4aff-df78-68bab9c3ec1a"
      },
      "source": [
        "np.array_equiv(B,I)"
      ],
      "execution_count": 62,
      "outputs": [
        {
          "output_type": "execute_result",
          "data": {
            "text/plain": [
              "False"
            ]
          },
          "metadata": {},
          "execution_count": 62
        }
      ]
    },
    {
      "cell_type": "code",
      "metadata": {
        "colab": {
          "base_uri": "https://localhost:8080/"
        },
        "id": "IWyH31kFUcjx",
        "outputId": "79461d87-407b-431d-e28f-c68aa560325c"
      },
      "source": [
        "np.array_equiv(C,I)"
      ],
      "execution_count": 64,
      "outputs": [
        {
          "output_type": "execute_result",
          "data": {
            "text/plain": [
              "False"
            ]
          },
          "metadata": {},
          "execution_count": 64
        }
      ]
    },
    {
      "cell_type": "markdown",
      "metadata": {
        "id": "UWJirPzHTAhl"
      },
      "source": [
        "#####Sixth Property: $A\\cdot \\emptyset = \\emptyset$ "
      ]
    },
    {
      "cell_type": "code",
      "metadata": {
        "id": "0P6pkmZFS_fp"
      },
      "source": [
        "O = np.array([\n",
        "    [0,0,0,0],\n",
        "    [0,0,0,0],\n",
        "    [0,0,0,0],\n",
        "    [0,0,0,0]\n",
        "])"
      ],
      "execution_count": 54,
      "outputs": []
    },
    {
      "cell_type": "code",
      "metadata": {
        "colab": {
          "base_uri": "https://localhost:8080/"
        },
        "id": "EnfB1uy_Tgiz",
        "outputId": "4b9bd49c-a291-454f-81f4-42a7f756df70"
      },
      "source": [
        "np.dot(A,O)"
      ],
      "execution_count": 55,
      "outputs": [
        {
          "output_type": "execute_result",
          "data": {
            "text/plain": [
              "array([[0, 0, 0, 0],\n",
              "       [0, 0, 0, 0],\n",
              "       [0, 0, 0, 0],\n",
              "       [0, 0, 0, 0]])"
            ]
          },
          "metadata": {},
          "execution_count": 55
        }
      ]
    },
    {
      "cell_type": "code",
      "metadata": {
        "colab": {
          "base_uri": "https://localhost:8080/"
        },
        "id": "nq4eRPbqUiLo",
        "outputId": "ae7956fc-b3f9-4ca1-a23c-834870622b1e"
      },
      "source": [
        "np.dot(B,O)"
      ],
      "execution_count": 65,
      "outputs": [
        {
          "output_type": "execute_result",
          "data": {
            "text/plain": [
              "array([[0, 0, 0, 0],\n",
              "       [0, 0, 0, 0],\n",
              "       [0, 0, 0, 0],\n",
              "       [0, 0, 0, 0]])"
            ]
          },
          "metadata": {},
          "execution_count": 65
        }
      ]
    },
    {
      "cell_type": "code",
      "metadata": {
        "colab": {
          "base_uri": "https://localhost:8080/"
        },
        "id": "88i1hvm1UkvL",
        "outputId": "8ea3fc99-2dc1-4f71-977e-a68d4f0beab3"
      },
      "source": [
        "np.dot(C,O)"
      ],
      "execution_count": 66,
      "outputs": [
        {
          "output_type": "execute_result",
          "data": {
            "text/plain": [
              "array([[0, 0, 0, 0],\n",
              "       [0, 0, 0, 0],\n",
              "       [0, 0, 0, 0],\n",
              "       [0, 0, 0, 0]])"
            ]
          },
          "metadata": {},
          "execution_count": 66
        }
      ]
    },
    {
      "cell_type": "code",
      "metadata": {
        "colab": {
          "base_uri": "https://localhost:8080/"
        },
        "id": "R8_DbNGFTnCL",
        "outputId": "e3e1dc36-f64a-4d6b-84ac-e30278b28f5c"
      },
      "source": [
        "np.array_equal(A,O)"
      ],
      "execution_count": 56,
      "outputs": [
        {
          "output_type": "execute_result",
          "data": {
            "text/plain": [
              "False"
            ]
          },
          "metadata": {},
          "execution_count": 56
        }
      ]
    },
    {
      "cell_type": "code",
      "metadata": {
        "colab": {
          "base_uri": "https://localhost:8080/"
        },
        "id": "yX6NJyVVUneH",
        "outputId": "ad90442b-c5f5-461c-e225-873065d2bd27"
      },
      "source": [
        "np.array_equal(B,O )"
      ],
      "execution_count": 67,
      "outputs": [
        {
          "output_type": "execute_result",
          "data": {
            "text/plain": [
              "False"
            ]
          },
          "metadata": {},
          "execution_count": 67
        }
      ]
    },
    {
      "cell_type": "code",
      "metadata": {
        "colab": {
          "base_uri": "https://localhost:8080/"
        },
        "id": "INHhqshdUrnb",
        "outputId": "eac3e97c-727f-416c-d6c1-6996419b1d44"
      },
      "source": [
        "np.array_equal(C,O)"
      ],
      "execution_count": 68,
      "outputs": [
        {
          "output_type": "execute_result",
          "data": {
            "text/plain": [
              "False"
            ]
          },
          "metadata": {},
          "execution_count": 68
        }
      ]
    },
    {
      "cell_type": "code",
      "metadata": {
        "colab": {
          "base_uri": "https://localhost:8080/"
        },
        "id": "M33NCzEkTurI",
        "outputId": "c368ce69-2bf2-47d1-dd2b-9005c7186c77"
      },
      "source": [
        "np.array_equiv(A,O)"
      ],
      "execution_count": 57,
      "outputs": [
        {
          "output_type": "execute_result",
          "data": {
            "text/plain": [
              "False"
            ]
          },
          "metadata": {},
          "execution_count": 57
        }
      ]
    },
    {
      "cell_type": "code",
      "metadata": {
        "colab": {
          "base_uri": "https://localhost:8080/"
        },
        "id": "xEy-JpzlUz1n",
        "outputId": "e963bc40-38b2-4180-ba89-749d72ffa999"
      },
      "source": [
        "np.array_equiv(B,O)"
      ],
      "execution_count": 69,
      "outputs": [
        {
          "output_type": "execute_result",
          "data": {
            "text/plain": [
              "False"
            ]
          },
          "metadata": {},
          "execution_count": 69
        }
      ]
    },
    {
      "cell_type": "code",
      "metadata": {
        "colab": {
          "base_uri": "https://localhost:8080/"
        },
        "id": "W4dp0Ea9U2El",
        "outputId": "ef425b14-9cc4-43af-fd25-48105bcef887"
      },
      "source": [
        "np.array_equiv(C,O)"
      ],
      "execution_count": 70,
      "outputs": [
        {
          "output_type": "execute_result",
          "data": {
            "text/plain": [
              "False"
            ]
          },
          "metadata": {},
          "execution_count": 70
        }
      ]
    }
  ]
}